{
 "cells": [
  {
   "cell_type": "code",
   "execution_count": 2,
   "id": "7d669394",
   "metadata": {},
   "outputs": [],
   "source": [
    "import numpy as np\n",
    "import pandas as pd\n",
    "%matplotlib inline\n",
    "import matplotlib as mpl\n",
    "import matplotlib.pyplot as plt"
   ]
  },
  {
   "cell_type": "code",
   "execution_count": 3,
   "id": "4d105867",
   "metadata": {},
   "outputs": [],
   "source": [
    "import tensorflow as tf\n",
    "from tensorflow import keras"
   ]
  },
  {
   "cell_type": "code",
   "execution_count": 4,
   "id": "3770ede9",
   "metadata": {},
   "outputs": [],
   "source": [
    "fashion_mnist = keras.datasets.fashion_mnist\n",
    "(X_train_full, y_train_full), (X_test, y_test) = fashion_mnist.load_data()"
   ]
  },
  {
   "cell_type": "code",
   "execution_count": 5,
   "id": "0e4d0da1",
   "metadata": {},
   "outputs": [],
   "source": [
    "class_names = [\"T-shirt/top\", \"Trouser\", \"Pullover\", \"Dress\", \"Coat\",\n",
    "               \"Sandal\", \"Shirt\", \"Sneaker\", \"Bag\", \"Ankle boot\"]"
   ]
  },
  {
   "cell_type": "code",
   "execution_count": 6,
   "id": "a28755bb",
   "metadata": {},
   "outputs": [],
   "source": [
    "X_train_full = X_train_full.reshape((60000, 28, 28, 1))\n",
    "X_test = X_test.reshape((10000, 28, 28, 1))"
   ]
  },
  {
   "cell_type": "code",
   "execution_count": 7,
   "id": "7d29cacf",
   "metadata": {},
   "outputs": [],
   "source": [
    "X_train_n = X_train_full / 255.\n",
    "X_test_n = X_test / 255."
   ]
  },
  {
   "cell_type": "code",
   "execution_count": 8,
   "id": "120fe926",
   "metadata": {},
   "outputs": [],
   "source": [
    "X_valid, X_train = X_train_n[:5000], X_train_n[5000:]\n",
    "y_valid, y_train = y_train_full[:5000], y_train_full[5000:]\n",
    "X_test = X_test_n"
   ]
  },
  {
   "cell_type": "code",
   "execution_count": 10,
   "id": "a7594cd4",
   "metadata": {},
   "outputs": [],
   "source": [
    "np.random.seed(32)\n",
    "tf.random.set_seed(32)"
   ]
  },
  {
   "cell_type": "code",
   "execution_count": 11,
   "id": "1b2f5d90",
   "metadata": {},
   "outputs": [],
   "source": [
    "model = keras.models.Sequential()\n",
    "model.add(keras.layers.Conv2D(filters = 32, kernel_size = (3, 3), strides=1, padding='valid', activation='relu', input_shape=(28, 28, 1)))\n",
    "model.add(keras.layers.MaxPooling2D((2, 2)))\n",
    "\n",
    "model.add(keras.layers.Flatten())\n",
    "model.add(keras.layers.Dense(300, activation=\"relu\"))\n",
    "model.add(keras.layers.Dense(100, activation=\"relu\"))\n",
    "model.add(keras.layers.Dense(10, activation=\"softmax\"))\n"
   ]
  },
  {
   "cell_type": "code",
   "execution_count": 12,
   "id": "325125c9",
   "metadata": {},
   "outputs": [
    {
     "name": "stdout",
     "output_type": "stream",
     "text": [
      "Model: \"sequential\"\n",
      "_________________________________________________________________\n",
      " Layer (type)                Output Shape              Param #   \n",
      "=================================================================\n",
      " conv2d (Conv2D)             (None, 26, 26, 32)        320       \n",
      "                                                                 \n",
      " max_pooling2d (MaxPooling2D  (None, 13, 13, 32)       0         \n",
      " )                                                               \n",
      "                                                                 \n",
      " flatten (Flatten)           (None, 5408)              0         \n",
      "                                                                 \n",
      " dense (Dense)               (None, 300)               1622700   \n",
      "                                                                 \n",
      " dense_1 (Dense)             (None, 100)               30100     \n",
      "                                                                 \n",
      " dense_2 (Dense)             (None, 10)                1010      \n",
      "                                                                 \n",
      "=================================================================\n",
      "Total params: 1,654,130\n",
      "Trainable params: 1,654,130\n",
      "Non-trainable params: 0\n",
      "_________________________________________________________________\n"
     ]
    }
   ],
   "source": [
    "model.summary()"
   ]
  },
  {
   "cell_type": "code",
   "execution_count": 13,
   "id": "5bbb3447",
   "metadata": {},
   "outputs": [],
   "source": [
    "model.compile(loss=\"sparse_categorical_crossentropy\",\n",
    "              optimizer=\"sgd\",\n",
    "              metrics=[\"accuracy\"])"
   ]
  },
  {
   "cell_type": "code",
   "execution_count": 14,
   "id": "ed0b4b4e",
   "metadata": {},
   "outputs": [],
   "source": [
    "checkpoint_cb=keras.callbacks.ModelCheckpoint(\"Best_Model.h5\",save_best_only=True)"
   ]
  },
  {
   "cell_type": "code",
   "execution_count": 15,
   "id": "a22b71a6",
   "metadata": {},
   "outputs": [],
   "source": [
    "early_stopping_cb=keras.callbacks.EarlyStopping(patience=10,restore_best_weights=True)"
   ]
  },
  {
   "cell_type": "code",
   "execution_count": 16,
   "id": "b1b9a356",
   "metadata": {},
   "outputs": [
    {
     "name": "stdout",
     "output_type": "stream",
     "text": [
      "Epoch 1/50\n",
      "860/860 [==============================] - 22s 24ms/step - loss: 0.8615 - accuracy: 0.7051 - val_loss: 0.6128 - val_accuracy: 0.7676\n",
      "Epoch 2/50\n",
      "860/860 [==============================] - 20s 24ms/step - loss: 0.5312 - accuracy: 0.8075 - val_loss: 0.4966 - val_accuracy: 0.8298\n",
      "Epoch 3/50\n",
      "860/860 [==============================] - 20s 23ms/step - loss: 0.4750 - accuracy: 0.8280 - val_loss: 0.4773 - val_accuracy: 0.8282\n",
      "Epoch 4/50\n",
      "860/860 [==============================] - 20s 23ms/step - loss: 0.4368 - accuracy: 0.8431 - val_loss: 0.4187 - val_accuracy: 0.8528\n",
      "Epoch 5/50\n",
      "860/860 [==============================] - 20s 24ms/step - loss: 0.4113 - accuracy: 0.8518 - val_loss: 0.4159 - val_accuracy: 0.8514\n",
      "Epoch 6/50\n",
      "860/860 [==============================] - 20s 23ms/step - loss: 0.3931 - accuracy: 0.8584 - val_loss: 0.3723 - val_accuracy: 0.8694\n",
      "Epoch 7/50\n",
      "860/860 [==============================] - 26s 30ms/step - loss: 0.3767 - accuracy: 0.8654 - val_loss: 0.3915 - val_accuracy: 0.8638\n",
      "Epoch 8/50\n",
      "860/860 [==============================] - 20s 24ms/step - loss: 0.3617 - accuracy: 0.8704 - val_loss: 0.4079 - val_accuracy: 0.8518\n",
      "Epoch 9/50\n",
      "860/860 [==============================] - 21s 25ms/step - loss: 0.3475 - accuracy: 0.8750 - val_loss: 0.3364 - val_accuracy: 0.8800\n",
      "Epoch 10/50\n",
      "860/860 [==============================] - 22s 25ms/step - loss: 0.3357 - accuracy: 0.8783 - val_loss: 0.6019 - val_accuracy: 0.7882\n",
      "Epoch 11/50\n",
      "860/860 [==============================] - 21s 25ms/step - loss: 0.3258 - accuracy: 0.8826 - val_loss: 0.3410 - val_accuracy: 0.8740\n",
      "Epoch 12/50\n",
      "860/860 [==============================] - 21s 24ms/step - loss: 0.3152 - accuracy: 0.8850 - val_loss: 0.3674 - val_accuracy: 0.8692\n",
      "Epoch 13/50\n",
      "860/860 [==============================] - 21s 24ms/step - loss: 0.3058 - accuracy: 0.8894 - val_loss: 0.3367 - val_accuracy: 0.8772\n",
      "Epoch 14/50\n",
      "860/860 [==============================] - 21s 25ms/step - loss: 0.2985 - accuracy: 0.8905 - val_loss: 0.3486 - val_accuracy: 0.8754\n",
      "Epoch 15/50\n",
      "860/860 [==============================] - 21s 24ms/step - loss: 0.2904 - accuracy: 0.8945 - val_loss: 0.3075 - val_accuracy: 0.8882\n",
      "Epoch 16/50\n",
      "860/860 [==============================] - 21s 24ms/step - loss: 0.2836 - accuracy: 0.8971 - val_loss: 0.3442 - val_accuracy: 0.8750\n",
      "Epoch 17/50\n",
      "860/860 [==============================] - 21s 24ms/step - loss: 0.2772 - accuracy: 0.8985 - val_loss: 0.2937 - val_accuracy: 0.8900\n",
      "Epoch 18/50\n",
      "860/860 [==============================] - 21s 24ms/step - loss: 0.2699 - accuracy: 0.9004 - val_loss: 0.3148 - val_accuracy: 0.8860\n",
      "Epoch 19/50\n",
      "860/860 [==============================] - 20s 23ms/step - loss: 0.2652 - accuracy: 0.9024 - val_loss: 0.3089 - val_accuracy: 0.8880\n",
      "Epoch 20/50\n",
      "860/860 [==============================] - 20s 24ms/step - loss: 0.2596 - accuracy: 0.9054 - val_loss: 0.2953 - val_accuracy: 0.8902\n",
      "Epoch 21/50\n",
      "860/860 [==============================] - 21s 24ms/step - loss: 0.2539 - accuracy: 0.9061 - val_loss: 0.2964 - val_accuracy: 0.8944\n",
      "Epoch 22/50\n",
      "860/860 [==============================] - 21s 24ms/step - loss: 0.2480 - accuracy: 0.9089 - val_loss: 0.2823 - val_accuracy: 0.8966\n",
      "Epoch 23/50\n",
      "860/860 [==============================] - 20s 23ms/step - loss: 0.2433 - accuracy: 0.9115 - val_loss: 0.2846 - val_accuracy: 0.8976\n",
      "Epoch 24/50\n",
      "860/860 [==============================] - 20s 24ms/step - loss: 0.2386 - accuracy: 0.9132 - val_loss: 0.2951 - val_accuracy: 0.8972\n",
      "Epoch 25/50\n",
      "860/860 [==============================] - 21s 24ms/step - loss: 0.2337 - accuracy: 0.9140 - val_loss: 0.2969 - val_accuracy: 0.8966\n",
      "Epoch 26/50\n",
      "860/860 [==============================] - 22s 26ms/step - loss: 0.2293 - accuracy: 0.9167 - val_loss: 0.2718 - val_accuracy: 0.9022\n",
      "Epoch 27/50\n",
      "860/860 [==============================] - 20s 23ms/step - loss: 0.2249 - accuracy: 0.9175 - val_loss: 0.2690 - val_accuracy: 0.8988\n",
      "Epoch 28/50\n",
      "860/860 [==============================] - 20s 23ms/step - loss: 0.2210 - accuracy: 0.9187 - val_loss: 0.2622 - val_accuracy: 0.9072\n",
      "Epoch 29/50\n",
      "860/860 [==============================] - 17s 20ms/step - loss: 0.2168 - accuracy: 0.9216 - val_loss: 0.2849 - val_accuracy: 0.8960\n",
      "Epoch 30/50\n",
      "860/860 [==============================] - 16s 19ms/step - loss: 0.2136 - accuracy: 0.9218 - val_loss: 0.3440 - val_accuracy: 0.8740\n",
      "Epoch 31/50\n",
      "860/860 [==============================] - 17s 19ms/step - loss: 0.2081 - accuracy: 0.9242 - val_loss: 0.3272 - val_accuracy: 0.8812\n",
      "Epoch 32/50\n",
      "860/860 [==============================] - 16s 19ms/step - loss: 0.2055 - accuracy: 0.9250 - val_loss: 0.2847 - val_accuracy: 0.8984\n",
      "Epoch 33/50\n",
      "860/860 [==============================] - 17s 19ms/step - loss: 0.2012 - accuracy: 0.9261 - val_loss: 0.3031 - val_accuracy: 0.8888\n",
      "Epoch 34/50\n",
      "860/860 [==============================] - 16s 18ms/step - loss: 0.1974 - accuracy: 0.9281 - val_loss: 0.2623 - val_accuracy: 0.9050\n",
      "Epoch 35/50\n",
      "860/860 [==============================] - 16s 18ms/step - loss: 0.1937 - accuracy: 0.9292 - val_loss: 0.2617 - val_accuracy: 0.9074\n",
      "Epoch 36/50\n",
      "860/860 [==============================] - 17s 20ms/step - loss: 0.1912 - accuracy: 0.9303 - val_loss: 0.2562 - val_accuracy: 0.9058\n",
      "Epoch 37/50\n",
      "860/860 [==============================] - 16s 19ms/step - loss: 0.1866 - accuracy: 0.9322 - val_loss: 0.2655 - val_accuracy: 0.9038\n",
      "Epoch 38/50\n",
      "860/860 [==============================] - 16s 19ms/step - loss: 0.1834 - accuracy: 0.9329 - val_loss: 0.2605 - val_accuracy: 0.9092\n",
      "Epoch 39/50\n",
      "860/860 [==============================] - 17s 20ms/step - loss: 0.1795 - accuracy: 0.9349 - val_loss: 0.3081 - val_accuracy: 0.8908\n",
      "Epoch 40/50\n",
      "860/860 [==============================] - 16s 19ms/step - loss: 0.1764 - accuracy: 0.9362 - val_loss: 0.2524 - val_accuracy: 0.9104\n",
      "Epoch 41/50\n",
      "860/860 [==============================] - 16s 19ms/step - loss: 0.1723 - accuracy: 0.9376 - val_loss: 0.2689 - val_accuracy: 0.9016\n",
      "Epoch 42/50\n",
      "860/860 [==============================] - 16s 19ms/step - loss: 0.1696 - accuracy: 0.9381 - val_loss: 0.2484 - val_accuracy: 0.9092\n",
      "Epoch 43/50\n",
      "860/860 [==============================] - 16s 19ms/step - loss: 0.1654 - accuracy: 0.9410 - val_loss: 0.2717 - val_accuracy: 0.9026\n",
      "Epoch 44/50\n",
      "860/860 [==============================] - 16s 18ms/step - loss: 0.1617 - accuracy: 0.9419 - val_loss: 0.2639 - val_accuracy: 0.9054\n",
      "Epoch 45/50\n",
      "860/860 [==============================] - 16s 19ms/step - loss: 0.1585 - accuracy: 0.9428 - val_loss: 0.2772 - val_accuracy: 0.9060\n",
      "Epoch 46/50\n",
      "860/860 [==============================] - 16s 19ms/step - loss: 0.1557 - accuracy: 0.9442 - val_loss: 0.2833 - val_accuracy: 0.8990\n",
      "Epoch 47/50\n",
      "860/860 [==============================] - 16s 19ms/step - loss: 0.1523 - accuracy: 0.9453 - val_loss: 0.2642 - val_accuracy: 0.9066\n",
      "Epoch 48/50\n",
      "860/860 [==============================] - 16s 18ms/step - loss: 0.1494 - accuracy: 0.9463 - val_loss: 0.2491 - val_accuracy: 0.9126\n",
      "Epoch 49/50\n",
      "860/860 [==============================] - 16s 18ms/step - loss: 0.1459 - accuracy: 0.9475 - val_loss: 0.2469 - val_accuracy: 0.9130\n",
      "Epoch 50/50\n",
      "860/860 [==============================] - 16s 18ms/step - loss: 0.1438 - accuracy: 0.9477 - val_loss: 0.2729 - val_accuracy: 0.9016\n"
     ]
    }
   ],
   "source": [
    "model_history = model.fit(X_train, y_train, epochs=50,batch_size= 64,\n",
    "                    validation_data=(X_valid, y_valid),callbacks=[checkpoint_cb,early_stopping_cb])"
   ]
  },
  {
   "cell_type": "code",
   "execution_count": 17,
   "id": "6c7bd313",
   "metadata": {},
   "outputs": [
    {
     "data": {
      "image/png": "[encoded data removed]",
      "text/plain": [
       "<Figure size 576x360 with 1 Axes>"
      ]
     },
     "metadata": {
      "needs_background": "light"
     },
     "output_type": "display_data"
    }
   ],
   "source": [
    "pd.DataFrame(model_history.history).plot(figsize=(8, 5))\n",
    "plt.grid(True)\n",
    "plt.gca().set_ylim(0, 1)\n",
    "plt.show()"
   ]
  },
  {
   "cell_type": "code",
   "execution_count": 18,
   "id": "f8137867",
   "metadata": {},
   "outputs": [
    {
     "name": "stdout",
     "output_type": "stream",
     "text": [
      "313/313 [==============================] - 2s 5ms/step - loss: 0.2893 - accuracy: 0.8972\n"
     ]
    }
   ],
   "source": [
    "ev = model.evaluate(X_test_n, y_test)"
   ]
  },
  {
   "cell_type": "code",
   "execution_count": 19,
   "id": "d5f9400a",
   "metadata": {},
   "outputs": [
    {
     "data": {
      "text/plain": [
       "[0.289337694644928, 0.8971999883651733]"
      ]
     },
     "execution_count": 19,
     "metadata": {},
     "output_type": "execute_result"
    }
   ],
   "source": [
    "ev"
   ]
  },
  {
   "cell_type": "code",
   "execution_count": 20,
   "id": "ffcd89e7",
   "metadata": {},
   "outputs": [
    {
     "name": "stdout",
     "output_type": "stream",
     "text": [
      "1/1 [==============================] - 0s 174ms/step\n"
     ]
    },
    {
     "data": {
      "text/plain": [
       "array([9, 2, 1], dtype=int64)"
      ]
     },
     "execution_count": 20,
     "metadata": {},
     "output_type": "execute_result"
    }
   ],
   "source": [
    "X_new = X_test[:3]\n",
    "y_pred = np.argmax(model.predict(X_new),axis=1)\n",
    "y_pred"
   ]
  },
  {
   "cell_type": "code",
   "execution_count": null,
   "id": "9ef9fd76",
   "metadata": {},
   "outputs": [],
   "source": []
  }
 ],
 "metadata": {
  "kernelspec": {
   "display_name": "Python 3 (ipykernel)",
   "language": "python",
   "name": "python3"
  },
  "language_info": {
   "codemirror_mode": {
    "name": "ipython",
    "version": 3
   },
   "file_extension": ".py",
   "mimetype": "text/x-python",
   "name": "python",
   "nbconvert_exporter": "python",
   "pygments_lexer": "ipython3",
   "version": "3.9.12"
  }
 },
 "nbformat": 4,
 "nbformat_minor": 5
}
